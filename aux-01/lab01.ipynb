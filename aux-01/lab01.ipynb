{
 "cells": [
  {
   "cell_type": "code",
   "execution_count": 5,
   "metadata": {},
   "outputs": [
    {
     "name": "stdout",
     "output_type": "stream",
     "text": [
      "90\n",
      "0 nota(s) de R$ 100,00.\n",
      "0 nota(s) de R$ 50,00.\n",
      "0 nota(s) de R$ 20,00.\n",
      "0 nota(s) de R$ 10,00.\n",
      "0 nota(s) de R$ 5,00.\n",
      "0 nota(s) de R$ 2,00.\n",
      "0 moeda(s) de R$ 1,00.\n",
      "1 moeda(s) de R$ 0,50.\n",
      "1 moeda(s) de R$ 0,25.\n",
      "1 moeda(s) de R$ 0,10.\n",
      "1 moeda(s) de R$ 0,05.\n"
     ]
    }
   ],
   "source": [
    "x = int(input())\n",
    "\n",
    "currency = [10000,5000,2000,1000,500,200,100,50,25,10,5]\n",
    "qtd = []\n",
    "\n",
    "for item in currency:\n",
    "    curr_num = x // item\n",
    "    qtd.append(curr_num)\n",
    "    x = x % item\n",
    "\n",
    "print( qtd[0],\"nota(s) de R$ 100,00.\")\n",
    "print( qtd[1],\"nota(s) de R$ 50,00.\")\n",
    "print( qtd[2],\"nota(s) de R$ 20,00.\")\n",
    "print( qtd[3],\"nota(s) de R$ 10,00.\")\n",
    "print( qtd[4],\"nota(s) de R$ 5,00.\")\n",
    "print( qtd[5],\"nota(s) de R$ 2,00.\")\n",
    "print( qtd[6],\"moeda(s) de R$ 1,00.\")\n",
    "print( qtd[7],\"moeda(s) de R$ 0,50.\")\n",
    "print( qtd[8],\"moeda(s) de R$ 0,25.\")\n",
    "print( qtd[9],\"moeda(s) de R$ 0,10.\")\n",
    "print(qtd[10],\"moeda(s) de R$ 0,05.\")"
   ]
  }
 ],
 "metadata": {
  "kernelspec": {
   "display_name": "Python 3",
   "language": "python",
   "name": "python3"
  },
  "language_info": {
   "codemirror_mode": {
    "name": "ipython",
    "version": 3
   },
   "file_extension": ".py",
   "mimetype": "text/x-python",
   "name": "python",
   "nbconvert_exporter": "python",
   "pygments_lexer": "ipython3",
   "version": "3.6.5"
  }
 },
 "nbformat": 4,
 "nbformat_minor": 2
}
