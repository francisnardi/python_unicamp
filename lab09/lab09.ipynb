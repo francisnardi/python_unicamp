{
 "cells": [
  {
   "cell_type": "markdown",
   "metadata": {},
   "source": [
    "# Tarefa de laboratório 09\n",
    "### Bingo!"
   ]
  },
  {
   "cell_type": "markdown",
   "metadata": {},
   "source": [
    "Em um jogo de Bingo, os participantes recebem cartelas com 24 números distintos dispostos em uma matriz com 5 linhas e 5 colunas, sendo que o elemento central não recebe número. Os números da primeira coluna devem estar no intervalo de 1 a 15, da segunda, de 16 a 30, da terceira, de 31 a 45, da quarta, de 46 a 60 e da quinta, de 61 a 75. Além disto, a palavra BINGO costuma estar escrita no topo das cartelas de maneira a facilitar a identificação das colunas. "
   ]
  },
  {
   "cell_type": "markdown",
   "metadata": {},
   "source": [
    "Durante o jogo, números são sorteados e anunciados juntamente com o identificador das colunas, como, por exemplo, B-02, I-17 ou G-54. Ao verificar que um número sorteado está em sua cartela, o jogador deve marcá-lo. Ganha prêmios quem completar com números sorteados uma linha, uma coluna ou uma das diagonais. Sua tarefa será implementar um programa em Python para simular a participação de um jogador com uma única cartela em uma partida de Bingo."
   ]
  },
  {
   "cell_type": "code",
   "execution_count": 1,
   "metadata": {},
   "outputs": [],
   "source": [
    "#cartela = [\n",
    "#    ['12', '24', '43', '49', '72'],\n",
    "#    ['07', '23', '31', '57', '62'],\n",
    "#    ['04', '20', 'XX', '51', '73'],\n",
    "#    ['08', '21', '38', '50', '61'],\n",
    "#    ['05', '27', '40', '54', '63']]\n",
    "\n",
    "#texto_linhas = [\n",
    "#    '12 24 43 49 72',\n",
    "#    '07 23 31 57 62',\n",
    "#    '04 20 XX 51 73',\n",
    "#    '08 21 38 50 61',\n",
    "#    '05 27 40 54 63']"
   ]
  },
  {
   "cell_type": "markdown",
   "metadata": {},
   "source": [
    "### Código para inicializar cartela e dicionário de colunas "
   ]
  },
  {
   "cell_type": "code",
   "execution_count": 2,
   "metadata": {},
   "outputs": [],
   "source": [
    "bingo = {}\n",
    "bingo[\"B\"] = 0\n",
    "bingo[\"I\"] = 1\n",
    "bingo[\"N\"] = 2\n",
    "bingo[\"G\"] = 3\n",
    "bingo[\"O\"] = 4\n",
    "\n",
    "cartela = []\n",
    "texto_linhas = []"
   ]
  },
  {
   "cell_type": "markdown",
   "metadata": {},
   "source": [
    "### Código para receber os valores da cartela"
   ]
  },
  {
   "cell_type": "code",
   "execution_count": 3,
   "metadata": {},
   "outputs": [
    {
     "name": "stdin",
     "output_type": "stream",
     "text": [
      " 12 24 43 49 72\n",
      " 07 23 31 57 62\n",
      " 04 20 XX 51 73\n",
      " 08 21 38 50 61\n",
      " 05 27 40 54 63\n"
     ]
    }
   ],
   "source": [
    "for i in range(5):\n",
    "    linha_cartela = input()\n",
    "    texto_linhas.append(linha_cartela)\n",
    "    dados_linha = linha_cartela.split()\n",
    "    cartela.append(dados_linha)"
   ]
  },
  {
   "cell_type": "markdown",
   "metadata": {},
   "source": [
    "### Função para imprimir os valores da cartela"
   ]
  },
  {
   "cell_type": "code",
   "execution_count": 4,
   "metadata": {},
   "outputs": [],
   "source": [
    "def imprime_cartela(texto_linhas):\n",
    "    cartela_modelo = [\n",
    "    [\"+----------------+\"],\n",
    "    [\"| B  I  N  G  O  |\"],\n",
    "    [\"+================+\"],\n",
    "    [f\"| {texto_linhas[0]} |\"],\n",
    "    [f\"| {texto_linhas[1]} |\"],\n",
    "    [f\"| {texto_linhas[2]} |\"],\n",
    "    [f\"| {texto_linhas[3]} |\"],\n",
    "    [f\"| {texto_linhas[4]} |\"],\n",
    "    [\"+----------------+\"]]\n",
    "    \n",
    "    for i in range(9):\n",
    "        print(', '.join(cartela_modelo[i]))"
   ]
  },
  {
   "cell_type": "markdown",
   "metadata": {},
   "source": [
    "### Função para conferir se o jogador venceu (bateu)"
   ]
  },
  {
   "cell_type": "code",
   "execution_count": 5,
   "metadata": {},
   "outputs": [],
   "source": [
    "def bateu(contador, cont_dprinc, cont_dsec):\n",
    "    if contador[\"B\"] == 5 or contador[\"I\"] == 5 or \\\n",
    "       contador[\"G\"] == 5 or contador[\"O\"] == 5 or \\\n",
    "       contador[\"N\"] == 4 or cont_dprinc == 4 or cont_dsec == 4:\n",
    "        return True\n",
    "    else:\n",
    "        return False"
   ]
  },
  {
   "cell_type": "markdown",
   "metadata": {},
   "source": [
    "### Código para inicializar dicionário contador de acertos em linhas e colunas"
   ]
  },
  {
   "cell_type": "code",
   "execution_count": 6,
   "metadata": {},
   "outputs": [],
   "source": [
    "contador = {}\n",
    "contador[\"B\"] = 0\n",
    "contador[\"I\"] = 0\n",
    "contador[\"N\"] = 0\n",
    "contador[\"G\"] = 0\n",
    "contador[\"O\"] = 0\n",
    "\n",
    "contador[1] = 0\n",
    "contador[2] = 0\n",
    "contador[3] = 0\n",
    "contador[4] = 0\n",
    "contador[5] = 0\n",
    "\n",
    "cont_dprinc = 0\n",
    "cont_dsec = 0\n",
    "\n",
    "texto_sorteados = []\n",
    "dados_sorteados = []\n",
    "numeros_sortedos = []"
   ]
  },
  {
   "cell_type": "markdown",
   "metadata": {},
   "source": [
    "### Código para receber o número de jogadas em uma disputa"
   ]
  },
  {
   "cell_type": "code",
   "execution_count": 7,
   "metadata": {},
   "outputs": [
    {
     "name": "stdin",
     "output_type": "stream",
     "text": [
      " 6\n"
     ]
    }
   ],
   "source": [
    "n = int(input())"
   ]
  },
  {
   "cell_type": "markdown",
   "metadata": {},
   "source": [
    "### Código para executar uma rodada de bingo"
   ]
  },
  {
   "cell_type": "code",
   "execution_count": 8,
   "metadata": {},
   "outputs": [
    {
     "name": "stdin",
     "output_type": "stream",
     "text": [
      " N-38\n"
     ]
    },
    {
     "name": "stdout",
     "output_type": "stream",
     "text": [
      "N-38\n",
      "+----------------+\n",
      "| B  I  N  G  O  |\n",
      "+================+\n",
      "| 12 24 43 49 72 |\n",
      "| 07 23 31 57 62 |\n",
      "| 04 20 XX 51 73 |\n",
      "| 08 21 XX 50 61 |\n",
      "| 05 27 40 54 63 |\n",
      "+----------------+\n"
     ]
    },
    {
     "name": "stdin",
     "output_type": "stream",
     "text": [
      " N-40\n"
     ]
    },
    {
     "name": "stdout",
     "output_type": "stream",
     "text": [
      "N-40\n",
      "+----------------+\n",
      "| B  I  N  G  O  |\n",
      "+================+\n",
      "| 12 24 43 49 72 |\n",
      "| 07 23 31 57 62 |\n",
      "| 04 20 XX 51 73 |\n",
      "| 08 21 XX 50 61 |\n",
      "| 05 27 XX 54 63 |\n",
      "+----------------+\n"
     ]
    },
    {
     "name": "stdin",
     "output_type": "stream",
     "text": [
      " B-06\n"
     ]
    },
    {
     "name": "stdout",
     "output_type": "stream",
     "text": [
      "B-06\n"
     ]
    },
    {
     "name": "stdin",
     "output_type": "stream",
     "text": [
      " N-43\n"
     ]
    },
    {
     "name": "stdout",
     "output_type": "stream",
     "text": [
      "N-43\n",
      "+----------------+\n",
      "| B  I  N  G  O  |\n",
      "+================+\n",
      "| 12 24 XX 49 72 |\n",
      "| 07 23 31 57 62 |\n",
      "| 04 20 XX 51 73 |\n",
      "| 08 21 XX 50 61 |\n",
      "| 05 27 XX 54 63 |\n",
      "+----------------+\n"
     ]
    },
    {
     "name": "stdin",
     "output_type": "stream",
     "text": [
      " N-31\n"
     ]
    },
    {
     "name": "stdout",
     "output_type": "stream",
     "text": [
      "N-31\n",
      "+----------------+\n",
      "| B  I  N  G  O  |\n",
      "+================+\n",
      "| 12 24 XX 49 72 |\n",
      "| 07 23 XX 57 62 |\n",
      "| 04 20 XX 51 73 |\n",
      "| 08 21 XX 50 61 |\n",
      "| 05 27 XX 54 63 |\n",
      "+----------------+\n",
      "BINGO\n"
     ]
    }
   ],
   "source": [
    "for i in range(n):\n",
    "    sorteado = input()\n",
    "    texto_sorteados.append(sorteado)\n",
    "    dados_sorteados = sorteado.split(\"-\")\n",
    "    numeros_sortedos.append(dados_sorteados)\n",
    "    letra = dados_sorteados[0]  \n",
    "    numero = dados_sorteados[1]\n",
    "    print(sorteado)\n",
    "    \n",
    "    if numero in cartela[0]:\n",
    "        contador[1] += 1\n",
    "        posicao = 0\n",
    "        esta = True\n",
    "        \n",
    "    if numero in cartela[1]:\n",
    "        contador[2] += 1\n",
    "        posicao = 1\n",
    "        esta = True\n",
    "\n",
    "    if numero in cartela[2]:\n",
    "        contador[3] += 1\n",
    "        posicao = 2\n",
    "        esta = True\n",
    "\n",
    "    if numero in cartela[3]:\n",
    "        contador[4] += 1\n",
    "        posicao = 3\n",
    "        esta = True\n",
    "\n",
    "    if numero in cartela[4]:\n",
    "        contador[5] += 1\n",
    "        posicao = 4\n",
    "        esta = True\n",
    "\n",
    "    if numero == cartela[0][0]:\n",
    "        cont_dprinc += 1\n",
    "\n",
    "    if numero == cartela[1][1]:\n",
    "        cont_dprinc += 1\n",
    "    \n",
    "    if numero == cartela[2][2]:\n",
    "        cont_dprinc += 1\n",
    "        \n",
    "    if numero == cartela[3][3]:\n",
    "        cont_dprinc += 1\n",
    "\n",
    "    if numero == cartela[4][4]:\n",
    "        cont_dprinc += 1\n",
    "\n",
    "    if numero == cartela[0][4]:\n",
    "        cont_dsec += 1\n",
    "\n",
    "    if numero == cartela[1][3]:\n",
    "        cont_dsec += 1\n",
    "\n",
    "    if numero == cartela[3][1]:\n",
    "        cont_dsec += 1\n",
    "\n",
    "    if numero == cartela[4][0]:\n",
    "        cont_dsec += 1\n",
    "        \n",
    "    if numero in (row[bingo[letra]] for row in cartela):\n",
    "        contador[letra] += 1\n",
    "        \n",
    "    if esta:\n",
    "        cartela[posicao][bingo[letra]] = 'XX'\n",
    "        x = list(texto_linhas[posicao])\n",
    "        x[(bingo[letra]*3)] = 'X'\n",
    "        x[(bingo[letra]*3)+1] = 'X'\n",
    "        texto_linhas[posicao] = \"\".join(x)\n",
    "        \n",
    "        imprime_cartela(texto_linhas)\n",
    "    \n",
    "    if bateu(contador, cont_dprinc, cont_dsec):\n",
    "        print(\"BINGO\")\n",
    "        break\n",
    "    \n",
    "    esta = False"
   ]
  }
 ],
 "metadata": {
  "kernelspec": {
   "display_name": "Python 3",
   "language": "python",
   "name": "python3"
  },
  "language_info": {
   "codemirror_mode": {
    "name": "ipython",
    "version": 3
   },
   "file_extension": ".py",
   "mimetype": "text/x-python",
   "name": "python",
   "nbconvert_exporter": "python",
   "pygments_lexer": "ipython3",
   "version": "3.6.6"
  }
 },
 "nbformat": 4,
 "nbformat_minor": 2
}
