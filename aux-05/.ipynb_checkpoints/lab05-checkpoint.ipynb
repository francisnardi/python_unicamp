{
 "cells": [
  {
   "cell_type": "markdown",
   "metadata": {},
   "source": [
    "# Tarefa de laboratório 05\n",
    "## \\#ilovepython ;-)\n",
    "\n",
    "\n",
    "\n",
    "Em textos disponíveis na Internet é muito comum o uso de hashtags e emoticons. Um pesquisador da área de linguística está interessado em medir o quanto o uso destes elementos é importante para a interpretação destes textos. Para isso ele irá entregar os textos originais para um grupo de leitores e os mesmos textos sem emoticons e hashtags para outro grupo. Finalmente, ele irá comparar as impressões dos grupos sobre os textos.\n",
    "\n",
    "Sua tarefa será escrever a versão inicial de um programa em Python para auxiliar o pesquisador a filtrar os textos. Adotaremos as seguintes regras simplificadas para a classificação dos elementos:\n",
    "\n",
    "* **Palavras**: sequência de letras (sem acento).\n",
    "\n",
    "    Exemplos: UNICAMP algoritmos programacao\n",
    "\n",
    "* **Números**: sequência de dígitos precedidos ou não do sinal negativo (-). Não trataremos números reais, complexos ou com pontos indicando a separação em grupos de três dígitos. \n",
    "\n",
    "    Exemplos: 2018 -100000\n",
    "\n",
    "* **Hashtag**: caractere # seguido de letras. \n",
    "\n",
    "    Exemplos: #python #unicamp #amoviajar\n",
    "\n",
    "* **Emoticons**: grupo de dois ou mais caracteres que não se enquadram nas descrições anteriores. São compostos principalmente por caracteres de pontuação, mas podem conter letras, números ou serem precedidos por #. \n",
    "\n",
    "    Exemplos: :-) #:-) :D <3"
   ]
  },
  {
   "cell_type": "markdown",
   "metadata": {},
   "source": [
    "## Recebendo as linhas do arquivo `arqN.in` como entrada"
   ]
  },
  {
   "cell_type": "code",
   "execution_count": 11,
   "metadata": {},
   "outputs": [],
   "source": [
    "import sys\n",
    "x = []\n",
    "z = sys.stdin.readlines()\n",
    "\n",
    "for item in z[1:]:\n",
    "    x.append(item.strip())"
   ]
  },
  {
   "cell_type": "markdown",
   "metadata": {},
   "source": [
    "## Atribuindo a entrada diretamente"
   ]
  },
  {
   "cell_type": "code",
   "execution_count": 2,
   "metadata": {},
   "outputs": [
    {
     "name": "stdout",
     "output_type": "stream",
     "text": [
      "['feliz', ':-)', ':)', '#:-)', '@:-)', '8-)', 'superfeliz', ':-D', '=-)', 'triste', ':-(', 'bravo', '>:-(', 'piscando', ';-)', 'perplexo', ':-/']\n"
     ]
    }
   ],
   "source": [
    "y = [\"17\",\"feliz\",\":-)\",\":)\",\"#:-)\",\"@:-)\",\"8-)\",\"superfeliz\",\":-D\",\"=-)\",\"triste\",\":-(\",\"bravo\",\">:-(\",\"piscando\",\";-)\",\"perplexo\",\":-/\"]\n",
    "print(y)"
   ]
  },
  {
   "cell_type": "markdown",
   "metadata": {},
   "source": [
    "## Encontrando os números"
   ]
  },
  {
   "cell_type": "code",
   "execution_count": 3,
   "metadata": {},
   "outputs": [],
   "source": [
    "def find_num(y):\n",
    "    for item in y:\n",
    "        if item.isdigit() or ((item[0] == \"-\" and item[1:].isdigit())):\n",
    "            print(item)\n",
    "            \n",
    "find_num(y)"
   ]
  },
  {
   "cell_type": "markdown",
   "metadata": {},
   "source": [
    "## Encontrando as palavras"
   ]
  },
  {
   "cell_type": "code",
   "execution_count": 4,
   "metadata": {},
   "outputs": [
    {
     "name": "stdout",
     "output_type": "stream",
     "text": [
      "feliz\n",
      "superfeliz\n",
      "triste\n",
      "bravo\n",
      "piscando\n",
      "perplexo\n"
     ]
    }
   ],
   "source": [
    "def find_word(y):\n",
    "    for item in y:\n",
    "        if item.isalpha():\n",
    "            print(item)\n",
    "\n",
    "find_word(y)"
   ]
  },
  {
   "cell_type": "markdown",
   "metadata": {},
   "source": [
    "## Encontrando os números e as palavras"
   ]
  },
  {
   "cell_type": "code",
   "execution_count": 5,
   "metadata": {},
   "outputs": [],
   "source": [
    "def find_num_word(y):\n",
    "    for item in y:\n",
    "        if item.isdigit() or ((item[0] == \"-\" and item[1:].isdigit())) or item.isalpha():\n",
    "            print(item)"
   ]
  },
  {
   "cell_type": "markdown",
   "metadata": {},
   "source": [
    "## Encontrando as hashtags"
   ]
  },
  {
   "cell_type": "code",
   "execution_count": 6,
   "metadata": {},
   "outputs": [],
   "source": [
    "def find_hashtag(y):\n",
    "    hashtag = 0\n",
    "    for item in y:\n",
    "        if item[0] == \"#\":\n",
    "            if item[1:].isalpha() or item[1:].isdigit():\n",
    "                #print(item)\n",
    "                hashtag = hashtag + 1\n",
    "    if hashtag == 1:\n",
    "        print(\"1 hashtag foi removida.\")\n",
    "    elif hashtag > 1:\n",
    "        print(hashtag, \"hashtags foram removidas.\")\n",
    "\n",
    "find_hashtag(y)"
   ]
  },
  {
   "cell_type": "markdown",
   "metadata": {},
   "source": [
    "## Encontrando os emoticons"
   ]
  },
  {
   "cell_type": "code",
   "execution_count": 7,
   "metadata": {},
   "outputs": [
    {
     "name": "stdout",
     "output_type": "stream",
     "text": [
      "11 emoticons foram removidos.\n"
     ]
    }
   ],
   "source": [
    "def find_emoticon(y):\n",
    "    emoticon = 0\n",
    "    for item in y:\n",
    "        if not item.isdigit() and not item.isalpha() and not ((item[0] == \"#\" and (item[1:].isalpha() or item[1:].isdigit()))) and not ((item[0] == \"-\" and item[1:].isdigit())):\n",
    "                #print(item)\n",
    "                emoticon = emoticon + 1          \n",
    "    if emoticon == 1:\n",
    "        print(\"1 emoticon foi removido.\")\n",
    "    elif emoticon > 1:\n",
    "        print(emoticon, \"emoticons foram removidos.\")\n",
    "\n",
    "find_emoticon(y)"
   ]
  },
  {
   "cell_type": "markdown",
   "metadata": {},
   "source": [
    "## Solução final - lab05"
   ]
  },
  {
   "cell_type": "code",
   "execution_count": 8,
   "metadata": {},
   "outputs": [
    {
     "name": "stdout",
     "output_type": "stream",
     "text": [
      "feliz\n",
      "superfeliz\n",
      "triste\n",
      "bravo\n",
      "piscando\n",
      "perplexo\n",
      "11 emoticons foram removidos.\n"
     ]
    }
   ],
   "source": [
    "\"\"\"lista_entrada = []\n",
    "entrada = input()\n",
    "while entrada != \"\":\n",
    "    lista_entrada.append(entrada)\n",
    "    entrada = input()\"\"\"\n",
    "\n",
    "lista_entrada = y\n",
    "    \n",
    "find_num_word(lista_entrada)\n",
    "find_hashtag(lista_entrada)\n",
    "find_emoticon(lista_entrada)"
   ]
  },
  {
   "cell_type": "markdown",
   "metadata": {},
   "source": [
    "## Solução final alternativa - lab05"
   ]
  },
  {
   "cell_type": "code",
   "execution_count": 9,
   "metadata": {},
   "outputs": [],
   "source": [
    "\"\"\"import sys\n",
    "x = []\n",
    "z = sys.stdin.readlines()\n",
    "\n",
    "for item in z:\n",
    "    x.append(item.strip())\"\"\"\n",
    "\n",
    "find_num_word(x)\n",
    "find_hashtag(x)\n",
    "find_emoticon(x)"
   ]
  }
 ],
 "metadata": {
  "kernelspec": {
   "display_name": "Python 3",
   "language": "python",
   "name": "python3"
  },
  "language_info": {
   "codemirror_mode": {
    "name": "ipython",
    "version": 3
   },
   "file_extension": ".py",
   "mimetype": "text/x-python",
   "name": "python",
   "nbconvert_exporter": "python",
   "pygments_lexer": "ipython3",
   "version": "3.6.5"
  }
 },
 "nbformat": 4,
 "nbformat_minor": 2
}
