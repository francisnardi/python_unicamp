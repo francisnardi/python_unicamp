{
 "cells": [
  {
   "cell_type": "code",
   "execution_count": 15,
   "metadata": {},
   "outputs": [
    {
     "name": "stdout",
     "output_type": "stream",
     "text": [
      "9\n",
      "8\n",
      "7\n",
      "7.1\n",
      "6.1\n",
      "9.1\n",
      "-1\n"
     ]
    }
   ],
   "source": [
    "cortes = []\n",
    "notas = []\n",
    "\n",
    "for i in range(0,3):\n",
    "    corte = float(input())\n",
    "    cortes.append(corte)\n",
    "\n",
    "nota = float(input())\n",
    "while nota != -1:\n",
    "    notas.append(nota)\n",
    "    nota = float(input())\n",
    "notas.append(nota)\n",
    "\n",
    "def numero_medalhas(notas, cortes):\n",
    "    num_medalhas = []\n",
    "    for i in range(0,3):\n",
    "        count = 0\n",
    "        for item in notas:\n",
    "            if item >= cortes[i] and item <= cortes[i] + 0.9:\n",
    "                count = count + 1\n",
    "        num_medalhas.append(count)\n",
    "    return num_medalhas\n",
    "\n",
    "def print_medalhas(qtd_medalhas, notas):\n",
    "    tipo_medalhas = [\"ouro\", \"prata\", \"bronze\"]\n",
    "    for i in range(0,len(qtd_medalhas)):\n",
    "        if qtd_medalhas[i] == 0:\n",
    "            print(\"Nenhum participante recebeu medalha de \" + str(tipo_medalhas[i]) + \"!\")\n",
    "        else:\n",
    "            print(\"Medalha(s) de \" + str(tipo_medalhas[i]) + \": \" + str(qtd_medalhas[i]))\n",
    "    print(\"Maior nota: \" + str(max(notas)))"
   ]
  },
  {
   "cell_type": "code",
   "execution_count": 16,
   "metadata": {},
   "outputs": [
    {
     "name": "stdout",
     "output_type": "stream",
     "text": [
      "Medalhas(s) de ouro: 1\n",
      "Nenhum participante recebeu medalha de prata!\n",
      "Medalhas(s) de bronze: 1\n",
      "Maior nota: 9.1\n"
     ]
    }
   ],
   "source": [
    "qtd_medalhas = numero_medalhas(notas,cortes)\n",
    "\n",
    "print_medalhas(qtd_medalhas, notas)"
   ]
  }
 ],
 "metadata": {
  "kernelspec": {
   "display_name": "Python 3",
   "language": "python",
   "name": "python3"
  },
  "language_info": {
   "codemirror_mode": {
    "name": "ipython",
    "version": 3
   },
   "file_extension": ".py",
   "mimetype": "text/x-python",
   "name": "python",
   "nbconvert_exporter": "python",
   "pygments_lexer": "ipython3",
   "version": "3.6.5"
  }
 },
 "nbformat": 4,
 "nbformat_minor": 2
}
