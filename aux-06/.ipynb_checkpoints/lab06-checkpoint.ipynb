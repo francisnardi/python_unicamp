{
 "cells": [
  {
   "cell_type": "markdown",
   "metadata": {
    "slideshow": {
     "slide_type": "slide"
    }
   },
   "source": [
    "# Tarefa de laboratório 06\n",
    "### Campeonato de futebol"
   ]
  },
  {
   "cell_type": "markdown",
   "metadata": {
    "slideshow": {
     "slide_type": "subslide"
    }
   },
   "source": [
    "* Em um campeonato de futebol, todos os times inscritos se enfrentam duas vezes: uma em seu estádio e outra no estádio adversário. O principal elemento para classificação é a pontuação acumulada: cada time recebe três pontos por vitória, um ponto por empate e zero ponto por derrota. \n",
    "\n",
    "* Em caso de empate, o desempate é feito por **número de vitórias**, **saldo de gols** (diferença entre o número de gols pró marcados e os gols sofridos por cada time) e **número de gols pró**. Caso os times permaneçam empatados em todos estes itens, ocupariam a mesma posição no campeonato. Nesta tarefa, no entanto, todos os testes levarão a um único vencedor."
   ]
  },
  {
   "cell_type": "markdown",
   "metadata": {
    "slideshow": {
     "slide_type": "slide"
    }
   },
   "source": [
    "### Inicializando os diferentes dicionários:"
   ]
  },
  {
   "cell_type": "code",
   "execution_count": 1,
   "metadata": {
    "slideshow": {
     "slide_type": "fragment"
    }
   },
   "outputs": [],
   "source": [
    "dic = {}                 # times\n",
    "pt = {}                  # número de pontos\n",
    "vit = {}                 # número de vitórias\n",
    "dic_gpro = {}            # gols pró\n",
    "dic_gsofrido = {}        # gols sofridos\n",
    "dic_saldo_de_gols = {}   # saldo de gols"
   ]
  },
  {
   "cell_type": "markdown",
   "metadata": {
    "slideshow": {
     "slide_type": "slide"
    }
   },
   "source": [
    "### Recebendo o número de times do campeonato:"
   ]
  },
  {
   "cell_type": "code",
   "execution_count": 2,
   "metadata": {
    "slideshow": {
     "slide_type": "fragment"
    }
   },
   "outputs": [
    {
     "name": "stdout",
     "output_type": "stream",
     "text": [
      "3\n"
     ]
    }
   ],
   "source": [
    "n = int(input())"
   ]
  },
  {
   "cell_type": "markdown",
   "metadata": {
    "slideshow": {
     "slide_type": "slide"
    }
   },
   "source": [
    "### Função que adiciona o time ao dicionário:"
   ]
  },
  {
   "cell_type": "code",
   "execution_count": 3,
   "metadata": {
    "slideshow": {
     "slide_type": "fragment"
    }
   },
   "outputs": [],
   "source": [
    "def add_time_dic(time):\n",
    "    dic[time] = 0                     \n",
    "    dic_gpro[time] = 0              # gols pró zerados\n",
    "    dic_gsofrido[time] = 0          # gols sofridos zerados\n",
    "    dic_saldo_de_gols[time] = 0     # saldo de gols zerado\n",
    "    pt[time] = 0                    # número de pontos zerado\n",
    "    vit[time] = 0                   # número de vitórias zerado"
   ]
  },
  {
   "cell_type": "markdown",
   "metadata": {
    "slideshow": {
     "slide_type": "slide"
    }
   },
   "source": [
    "### Função que computa os gols da partida:"
   ]
  },
  {
   "cell_type": "code",
   "execution_count": 4,
   "metadata": {
    "slideshow": {
     "slide_type": "fragment"
    }
   },
   "outputs": [],
   "source": [
    "def comp_gols_part(mandante, visitante, gols_mandante, gols_visitante):\n",
    "    \n",
    "    dic_gpro[mandante] += int(gols_mandante)\n",
    "    dic_gsofrido[mandante] += int(gols_visitante)\n",
    "    dic_saldo_de_gols[mandante] += int(gols_mandante) - int(gols_visitante)\n",
    "\n",
    "    dic_gpro[visitante] += int(gols_visitante)\n",
    "    dic_gsofrido[visitante] += int(gols_mandante)\n",
    "    dic_saldo_de_gols[visitante] += int(gols_visitante) - int(gols_mandante)"
   ]
  },
  {
   "cell_type": "markdown",
   "metadata": {
    "slideshow": {
     "slide_type": "slide"
    }
   },
   "source": [
    "### Função que distribui os pontos obtidos pelo time na partida:"
   ]
  },
  {
   "cell_type": "code",
   "execution_count": 5,
   "metadata": {
    "slideshow": {
     "slide_type": "fragment"
    }
   },
   "outputs": [],
   "source": [
    "def comp_pt_part(mandante, visitante, gols_mandante, gols_visitante):\n",
    "    \n",
    "    if int(gols_mandante) > int(gols_visitante):\n",
    "        pt[mandante] += 3\n",
    "        vit[mandante] += 1\n",
    "    elif int(gols_visitante) > int(gols_mandante):\n",
    "        pt[visitante] += 3\n",
    "        vit[visitante] += 1\n",
    "    else:\n",
    "        pt[mandante] += 1\n",
    "        pt[visitante] += 1"
   ]
  },
  {
   "cell_type": "markdown",
   "metadata": {
    "slideshow": {
     "slide_type": "slide"
    }
   },
   "source": [
    "### Código para calcular a classificação dos times no campeonato:"
   ]
  },
  {
   "cell_type": "code",
   "execution_count": 6,
   "metadata": {
    "slideshow": {
     "slide_type": "subslide"
    }
   },
   "outputs": [
    {
     "name": "stdout",
     "output_type": "stream",
     "text": [
      "Ibis 0 x Cascavel 3\n",
      "Cascavel 2 x Ibis 0\n",
      "Ibis 0 x Dourados 1\n",
      "Dourados 2 x Ibis 0\n",
      "Cascavel 3 x Dourados 2\n",
      "Dourados 3 x Cascavel 1    \n"
     ]
    }
   ],
   "source": [
    "for i in range(n**2-n):\n",
    "    resultados = input()\n",
    "    dados_ptd = resultados.split()\n",
    "    \n",
    "    mandante = dados_ptd[0]\n",
    "    gols_mandante = dados_ptd[1]\n",
    "    visitante = dados_ptd[3]\n",
    "    gols_visitante = dados_ptd[4]\n",
    "    \n",
    "    if mandante not in dic:\n",
    "        add_time_dic(mandante)\n",
    "\n",
    "    if visitante not in dic:\n",
    "        add_time_dic(visitante)\n",
    "        \n",
    "    comp_gols_part(mandante, visitante, gols_mandante, gols_visitante)\n",
    "    comp_pt_part(mandante, visitante, gols_mandante, gols_visitante)"
   ]
  },
  {
   "cell_type": "markdown",
   "metadata": {
    "slideshow": {
     "slide_type": "slide"
    }
   },
   "source": [
    "### Código para exibir a classificação dos times no campeonato:"
   ]
  },
  {
   "cell_type": "code",
   "execution_count": 7,
   "metadata": {
    "slideshow": {
     "slide_type": "fragment"
    }
   },
   "outputs": [
    {
     "name": "stdout",
     "output_type": "stream",
     "text": [
      "Cascavel 9 3 4 9\n",
      "Dourados 9 3 4 8\n",
      "Ibis 0 0 -8 0\n"
     ]
    }
   ],
   "source": [
    "for t in sorted(pt):\n",
    "    print(t, pt[t], vit[t], dic_saldo_de_gols[t], dic_gpro[t])"
   ]
  },
  {
   "cell_type": "markdown",
   "metadata": {
    "slideshow": {
     "slide_type": "slide"
    }
   },
   "source": [
    "### Função para calcular o time vencedor do campeonato:"
   ]
  },
  {
   "cell_type": "code",
   "execution_count": 8,
   "metadata": {
    "slideshow": {
     "slide_type": "subslide"
    }
   },
   "outputs": [],
   "source": [
    "def calc_vencedor(pt, vit, dic_saldo_de_gols, dic_gpro):\n",
    "    cont_pt = 0\n",
    "    cont_vit = 0\n",
    "    cont_saldo_de_gols = 0\n",
    "    cont_gpro = 0\n",
    "\n",
    "    maior_pt_chave = max(pt, key=pt.get)\n",
    "    maior_vit_chave = max(vit, key=vit.get)\n",
    "    maior_saldo_de_gchave = max(dic_saldo_de_gols, key=dic_saldo_de_gols.get)\n",
    "    maior_gpro_chave = max(dic_gpro, key=dic_gpro.get)\n",
    "\n",
    "    maior_pt = pt[maior_pt_chave]\n",
    "    maior_vit = vit[maior_vit_chave]\n",
    "    maior_saldo_de_gols = dic_saldo_de_gols[maior_saldo_de_gchave]\n",
    "    maior_gpro = dic_gpro[maior_gpro_chave]   \n",
    "    \n",
    "    for t in sorted(pt):\n",
    "        if pt[t] == maior_pt:\n",
    "            cont_pt += 1\n",
    "        if vit[t] == maior_vit:\n",
    "            cont_vit += 1\n",
    "        if dic_saldo_de_gols[t] == maior_saldo_de_gols:\n",
    "            cont_saldo_de_gols += 1\n",
    "        if dic_gpro[t] == maior_gpro:\n",
    "            cont_gpro += 1\n",
    "\n",
    "    if (cont_pt == 1):\n",
    "        print(\"Vencedor:\", maior_pt_chave)\n",
    "    elif (cont_vit == 1):\n",
    "        print(\"Vencedor:\", maior_vit_chave)\n",
    "    elif (cont_saldo_de_gols == 1):\n",
    "        print(\"Vencedor:\", maior_saldo_de_gchave)\n",
    "    elif (cont_gpro == 1):\n",
    "        print(\"Vencedor:\", maior_gpro_chave)"
   ]
  },
  {
   "cell_type": "markdown",
   "metadata": {
    "slideshow": {
     "slide_type": "slide"
    }
   },
   "source": [
    "### Código para mostrar o time vencedor do campeonato:"
   ]
  },
  {
   "cell_type": "code",
   "execution_count": 9,
   "metadata": {
    "slideshow": {
     "slide_type": "fragment"
    }
   },
   "outputs": [
    {
     "name": "stdout",
     "output_type": "stream",
     "text": [
      "Vencedor: Cascavel\n"
     ]
    }
   ],
   "source": [
    "calc_vencedor(pt, vit, dic_saldo_de_gols, dic_gpro)"
   ]
  }
 ],
 "metadata": {
  "celltoolbar": "Slideshow",
  "kernelspec": {
   "display_name": "Python 3",
   "language": "python",
   "name": "python3"
  },
  "language_info": {
   "codemirror_mode": {
    "name": "ipython",
    "version": 3
   },
   "file_extension": ".py",
   "mimetype": "text/x-python",
   "name": "python",
   "nbconvert_exporter": "python",
   "pygments_lexer": "ipython3",
   "version": "3.6.6"
  }
 },
 "nbformat": 4,
 "nbformat_minor": 2
}
