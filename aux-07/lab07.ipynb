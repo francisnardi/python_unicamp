{
 "cells": [
  {
   "cell_type": "markdown",
   "metadata": {},
   "source": [
    "# Tarefa de laboratório 07\n",
    "### Avaliação de MC102"
   ]
  },
  {
   "cell_type": "markdown",
   "metadata": {},
   "source": [
    "* **Atividades conceituais**: são os questionários que podem ser respondidos via Moodle. A nota atribuída a cada uma destas atividades é uma nota de participação, calculada de maneira proporcional ao número de questões respondidas pelo(a) aluno(a), independentemente do fato de estarem corretas ou não. A média das atividades conceituais **MAC** será dada pela média aritmética simples das notas das atividades.\n",
    "\n",
    "* **Tarefas de laboratório**: são os programas desenvolvidos e entregues para correção automática no SuSy. Para compor a média dos laboratórios **ML**, cada tarefa tem um peso indicado no enunciado do laboratório.\n",
    "\n",
    "* **Provas teóricas**: são as avaliações aplicadas em sala de aula, sem consulta. Para compor a média de provas **MP** a primeira prova tem peso 2 e a segunda, peso 3."
   ]
  },
  {
   "cell_type": "markdown",
   "metadata": {},
   "source": [
    "### Função para receber as notas das tarefas de laboratório:"
   ]
  },
  {
   "cell_type": "code",
   "execution_count": 1,
   "metadata": {},
   "outputs": [],
   "source": [
    "def tupla_float_int(x) :\n",
    "    x = x[1:-1]       # remove parênteses\n",
    "    x = x.split(\",\")  # separa em duas strings\n",
    "    f = float(x[0])   # converte primeiro elemento para float\n",
    "    i = int(x[1])     # converte segundo elemento para int\n",
    "    return (f,i)      # retorna tupla"
   ]
  },
  {
   "cell_type": "markdown",
   "metadata": {},
   "source": [
    "### Função para calcular a média das notas das tarefas de laboratório:"
   ]
  },
  {
   "cell_type": "code",
   "execution_count": 2,
   "metadata": {},
   "outputs": [],
   "source": [
    "def calc_med_lab(notas_lab):\n",
    "    temp_med_lab = []\n",
    "    temp_pes_lab = []\n",
    "    for i in range(0, len(notas_lab)):\n",
    "        temp_med_lab.append(notas_lab[i][0]*notas_lab[i][1])\n",
    "        temp_pes_lab.append(notas_lab[i][1])\n",
    "    return sum(temp_med_lab) / sum(temp_pes_lab)"
   ]
  },
  {
   "cell_type": "markdown",
   "metadata": {},
   "source": [
    "### Recebendo e calculando a média das notas das atividades conceituais:"
   ]
  },
  {
   "cell_type": "code",
   "execution_count": 3,
   "metadata": {},
   "outputs": [
    {
     "name": "stdin",
     "output_type": "stream",
     "text": [
      " 0 0 0 0 0 0\n"
     ]
    },
    {
     "name": "stdout",
     "output_type": "stream",
     "text": [
      "Media das atividades conceituais: 0.0\n"
     ]
    }
   ],
   "source": [
    "notas_ac = [float(x) for x in input().split()]\n",
    "mac = sum(notas_ac) / len(notas_ac)\n",
    "\n",
    "#print(\"\\n\")\n",
    "#for i in range(0, len(notas_lab)):\n",
    "#    print(\"Nota da atividade conceitual\", i+1, \":\", format(notas_ac[i], \".1f\"))  \n",
    "#print(\"\\n\")\n",
    "\n",
    "print(\"Media das atividades conceituais:\", format(mac, \".1f\"))"
   ]
  },
  {
   "cell_type": "markdown",
   "metadata": {},
   "source": [
    "### Recebendo e calculando a média das notas das tarefas de laboratório:"
   ]
  },
  {
   "cell_type": "code",
   "execution_count": 4,
   "metadata": {},
   "outputs": [
    {
     "name": "stdin",
     "output_type": "stream",
     "text": [
      " (0,1) (7.5,2) (5,3)\n"
     ]
    },
    {
     "name": "stdout",
     "output_type": "stream",
     "text": [
      "Media das tarefas de laboratorio: 5.0\n"
     ]
    }
   ],
   "source": [
    "notas_lab = [tupla_float_int(x) for x in input().split()]\n",
    "ml = calc_med_lab(notas_lab)\n",
    "\n",
    "#print(\"\\n\")\n",
    "#for i in range(0, len(notas_lab)):\n",
    "#    print(\"Nota do Lab\", i, \":\", format(notas_lab[i][0], \".1f\"))\n",
    "#    print(\"Peso do Lab\", i, \":\", notas_lab[i][1])\n",
    "#print(\"\\n\")\n",
    "\n",
    "print(\"Media das tarefas de laboratorio:\", format(ml, \".1f\"))"
   ]
  },
  {
   "cell_type": "markdown",
   "metadata": {},
   "source": [
    "### Recebendo e calculando a média das notas das provas:"
   ]
  },
  {
   "cell_type": "code",
   "execution_count": 5,
   "metadata": {},
   "outputs": [
    {
     "name": "stdin",
     "output_type": "stream",
     "text": [
      " 5.0 5.0\n"
     ]
    },
    {
     "name": "stdout",
     "output_type": "stream",
     "text": [
      "Media das provas: 5.0\n"
     ]
    }
   ],
   "source": [
    "notas_prova = [float(x) for x in input().split()]\n",
    "mp = (notas_prova[0]*2 + notas_prova[1]*3)/5\n",
    "\n",
    "#print(\"\\n\")\n",
    "#for i in range(0, len(notas_prova)):\n",
    "#    print(\"Nota da prova\", i+1, \":\", format(notas_prova[i], \".1f\"))  \n",
    "#print(\"\\n\")\n",
    "\n",
    "print(\"Media das provas:\", format(mp, \".1f\"))"
   ]
  },
  {
   "cell_type": "markdown",
   "metadata": {},
   "source": [
    "### Calculando a média global das notas:"
   ]
  },
  {
   "cell_type": "code",
   "execution_count": 6,
   "metadata": {},
   "outputs": [],
   "source": [
    "media_global = 0.6 * mp + 0.3 * ml + 0.1 * mac\n",
    "#print(format(media_global, \".1f\"))"
   ]
  },
  {
   "cell_type": "markdown",
   "metadata": {},
   "source": [
    "### Recebendo a frequência do aluno:"
   ]
  },
  {
   "cell_type": "code",
   "execution_count": 7,
   "metadata": {},
   "outputs": [
    {
     "name": "stdin",
     "output_type": "stream",
     "text": [
      " 100\n"
     ]
    }
   ],
   "source": [
    "frequencia = float(input())"
   ]
  },
  {
   "cell_type": "markdown",
   "metadata": {},
   "source": [
    "### Função para calcular aprovação:"
   ]
  },
  {
   "cell_type": "code",
   "execution_count": 8,
   "metadata": {},
   "outputs": [],
   "source": [
    "def calc_aprov(frequencia, media_global, mac, ml, mp):\n",
    "    if frequencia < 75.0:\n",
    "        print(\"Reprovado(a) por frequencia.\")\n",
    "        print(\"Media final:\", format(min(mp, ml), \".1f\"))\n",
    "    elif frequencia >= 75.0:\n",
    "        if mp >= 5.0 and ml >= 5.0:\n",
    "            print(\"Aprovado(a) por nota e frequencia.\")\n",
    "            print(\"Media final:\", format(max(5, media_global), \".1f\"))\n",
    "        elif mp < 2.5 or ml < 2.5:\n",
    "            print(\"Reprovado(a) por nota.\")\n",
    "            print(\"Media final:\", format(min(mp, ml), \".1f\"))\n",
    "        else:\n",
    "            exame = float(input())\n",
    "            mfinal = ((min(mp, ml)+exame)/2)\n",
    "            if mfinal < 5.0:\n",
    "                print(\"Nota no exame:\", format(exame, \".1f\"))\n",
    "                print(\"Reprovado(a) por nota.\")\n",
    "                print(\"Media final:\", format(mfinal, \".1f\"))\n",
    "            else:\n",
    "                print(\"Nota no exame:\", format(exame, \".1f\"))\n",
    "                print(\"Aprovado(a) por nota e frequencia.\")\n",
    "                print(\"Media final:\", format(mfinal, \".1f\"))"
   ]
  },
  {
   "cell_type": "markdown",
   "metadata": {},
   "source": [
    "### Código para calcular aprovação:"
   ]
  },
  {
   "cell_type": "code",
   "execution_count": 9,
   "metadata": {},
   "outputs": [
    {
     "name": "stdout",
     "output_type": "stream",
     "text": [
      "Aprovado(a) por nota e frequencia.\n",
      "Media final: 5.0\n"
     ]
    }
   ],
   "source": [
    "calc_aprov(frequencia, media_global, mac, ml, mp)"
   ]
  }
 ],
 "metadata": {
  "kernelspec": {
   "display_name": "Python 3",
   "language": "python",
   "name": "python3"
  },
  "language_info": {
   "codemirror_mode": {
    "name": "ipython",
    "version": 3
   },
   "file_extension": ".py",
   "mimetype": "text/x-python",
   "name": "python",
   "nbconvert_exporter": "python",
   "pygments_lexer": "ipython3",
   "version": "3.6.6"
  }
 },
 "nbformat": 4,
 "nbformat_minor": 2
}
