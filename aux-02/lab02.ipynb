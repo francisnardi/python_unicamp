{
 "cells": [
  {
   "cell_type": "code",
   "execution_count": 1,
   "metadata": {},
   "outputs": [
    {
     "ename": "NameError",
     "evalue": "name 'x' is not defined",
     "output_type": "error",
     "traceback": [
      "\u001b[0;31m---------------------------------------------------------------------------\u001b[0m",
      "\u001b[0;31mNameError\u001b[0m                                 Traceback (most recent call last)",
      "\u001b[0;32m<ipython-input-1-bdb4218a701d>\u001b[0m in \u001b[0;36m<module>\u001b[0;34m()\u001b[0m\n\u001b[1;32m     52\u001b[0m     \u001b[0;32mreturn\u001b[0m \u001b[0mmessage\u001b[0m\u001b[0;34m\u001b[0m\u001b[0m\n\u001b[1;32m     53\u001b[0m \u001b[0;34m\u001b[0m\u001b[0m\n\u001b[0;32m---> 54\u001b[0;31m \u001b[0mdecisao\u001b[0m\u001b[0;34m(\u001b[0m\u001b[0mx\u001b[0m\u001b[0;34m)\u001b[0m\u001b[0;34m\u001b[0m\u001b[0m\n\u001b[0m",
      "\u001b[0;31mNameError\u001b[0m: name 'x' is not defined"
     ]
    }
   ],
   "source": [
    "import sys\n",
    "\n",
    "z = sys.stdin.readlines()\n",
    "\n",
    "for item in z:\n",
    "    x.append(item.strip())\n",
    "\n",
    "#print(x)\n",
    "\n",
    "y = ['SIM!!!',\n",
    "     'NAO. As notas da Carla nao foram suficientes.',\n",
    "     'NAO. O casal nao esta de ferias.',\n",
    "     'NAO. Nenhum 13o salario foi liberado a tempo.',\n",
    "     'NAO. O valor total e muito alto.']\n",
    "\n",
    "def notas_ok(x):\n",
    "    if float(x[0]) >=7 and float(x[1]) >=7 and float(x[2]) >=7:\n",
    "        return True\n",
    "    else:\n",
    "        return False\n",
    "\n",
    "def ferias_ok(x):\n",
    "    if (x[3]) == \"Sim\" and (x[4]) == \"Sim\":\n",
    "        return True\n",
    "    else:\n",
    "        return False\n",
    "\n",
    "def decimo_terceiro_ok(x):\n",
    "    if int(x[5]) < 11 or int(x[6]) < 11:\n",
    "        return True\n",
    "    else:\n",
    "        return False\n",
    "\n",
    "def reserva_total_ok(x):\n",
    "    a = float(x[7]) + float(x[8])\n",
    "    if a <= 10000.00:\n",
    "        return True\n",
    "    else:\n",
    "        return False\n",
    "\n",
    "def decisao(x):\n",
    "    if not reserva_total_ok(x):\n",
    "        message = y[4]\n",
    "    if not decimo_terceiro_ok(x):\n",
    "        message = y[3]\n",
    "    if not ferias_ok(x):\n",
    "        message = y[2]\n",
    "    if not notas_ok(x):\n",
    "        message = y[1]\n",
    "    if (notas_ok(x) and ferias_ok(x) and decimo_terceiro_ok(x) and reserva_total_ok(x)):\n",
    "        message = y[0]\n",
    "    return message\n",
    "\n",
    "decisao(x)"
   ]
  }
 ],
 "metadata": {
  "kernelspec": {
   "display_name": "Python 3",
   "language": "python",
   "name": "python3"
  },
  "language_info": {
   "codemirror_mode": {
    "name": "ipython",
    "version": 3
   },
   "file_extension": ".py",
   "mimetype": "text/x-python",
   "name": "python",
   "nbconvert_exporter": "python",
   "pygments_lexer": "ipython3",
   "version": "3.6.5"
  }
 },
 "nbformat": 4,
 "nbformat_minor": 2
}
