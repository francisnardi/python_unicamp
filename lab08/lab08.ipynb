{
 "cells": [
  {
   "cell_type": "markdown",
   "metadata": {},
   "source": [
    "# Tarefa de laboratório 08\n",
    "### Jogo da Forca"
   ]
  },
  {
   "cell_type": "markdown",
   "metadata": {},
   "source": [
    "* No jogo da forca, o desafio é descobrir uma palavra oculta, tendo como dica o número de letras e podendo palpitar uma letra a cada vez. Para aumentar a emoção, a cada letra que não pertence à palavra, um membro de um boneco palito em uma forca é desenhado. O jogo termina se a palavra foi descoberta ou se o número máximo de tentativas foi atingido e o boneco está completo.\n",
    "\n",
    "* Para implementarmos o jogo, utilizaremos como base uma lista de cinquenta palavras que está armazenada no arquivo *forca.py*."
   ]
  },
  {
   "cell_type": "code",
   "execution_count": 1,
   "metadata": {},
   "outputs": [
    {
     "name": "stdin",
     "output_type": "stream",
     "text": [
      "Escolha um numero entre 0 e 49:  20\n"
     ]
    },
    {
     "name": "stdout",
     "output_type": "stream",
     "text": [
      "\n",
      "+++++\n",
      "|   |\n",
      "|\n",
      "|\n",
      "|\n",
      "+_______\n",
      "Palavra: _  _  _\n",
      "Proxima letra: "
     ]
    },
    {
     "name": "stdin",
     "output_type": "stream",
     "text": [
      " p\n"
     ]
    },
    {
     "name": "stdout",
     "output_type": "stream",
     "text": [
      "\n",
      "+++++\n",
      "|   |\n",
      "|\n",
      "|\n",
      "|\n",
      "+_______\n",
      "Palavra: p  _  _\n",
      "Proxima letra: "
     ]
    },
    {
     "name": "stdin",
     "output_type": "stream",
     "text": [
      " a\n"
     ]
    },
    {
     "name": "stdout",
     "output_type": "stream",
     "text": [
      "\n",
      "+++++\n",
      "|   |\n",
      "|\n",
      "|\n",
      "|\n",
      "+_______\n",
      "Palavra: p  a  _\n",
      "Proxima letra: "
     ]
    },
    {
     "name": "stdin",
     "output_type": "stream",
     "text": [
      " i\n"
     ]
    },
    {
     "name": "stdout",
     "output_type": "stream",
     "text": [
      "\n",
      "+++++\n",
      "|   |\n",
      "|   O\n",
      "|\n",
      "|\n",
      "+_______\n",
      "Palavra: p  a  _\n",
      "Tentativa(s) incorreta(s): i\n",
      "Proxima letra: "
     ]
    },
    {
     "name": "stdin",
     "output_type": "stream",
     "text": [
      " i\n"
     ]
    },
    {
     "name": "stdout",
     "output_type": "stream",
     "text": [
      "Voce jah escolheu esta letra.\n",
      "\n",
      "+++++\n",
      "|   |\n",
      "|   O\n",
      "|\n",
      "|\n",
      "+_______\n",
      "Palavra: p  a  _\n",
      "Tentativa(s) incorreta(s): i\n",
      "Proxima letra: "
     ]
    },
    {
     "name": "stdin",
     "output_type": "stream",
     "text": [
      " z\n"
     ]
    },
    {
     "name": "stdout",
     "output_type": "stream",
     "text": [
      "\n",
      "+++++\n",
      "|   |\n",
      "|   O\n",
      "|\n",
      "|\n",
      "+_______\n",
      "Palavra: p  a  z\n",
      "Tentativa(s) incorreta(s): i\n",
      "Palavra encontrada!\n"
     ]
    }
   ],
   "source": [
    "def imprime_cena():\n",
    "    x = \"\"\n",
    "    z = \"\"\n",
    "    print(cenas_forca[n_tentativas_incorretas])\n",
    "    print(\"Palavra:\", end='')\n",
    "    for j in range(len(lista_palavras[n])):\n",
    "        x = x + \" \" + campos[j] + \" \"\n",
    "    x=x[:-1]\n",
    "    print(x, end=\"\")\n",
    "    if tentativa_incorreta == True:\n",
    "        print(\"\\nTentativa(s) incorreta(s): \", end='')\n",
    "        for i in range(len(letras_incorretas)):\n",
    "            z = z + letras_incorretas[i] + \" \"\n",
    "            if letras_incorretas[i] not in letras_incorretas_repetidas:\n",
    "                letras_incorretas_repetidas.append(letras_incorretas[i])\n",
    "        z=z[:-1]\n",
    "        print(z, end=\"\")\n",
    "    return\n",
    "\n",
    "def proxima_letra(palavra_escolhida):\n",
    "    print(\"\\nProxima letra: \", end=\"\")\n",
    "    proxima = input()\n",
    "    encontre = re.search(proxima, palavra_escolhida)\n",
    "    if encontre:\n",
    "        if proxima not in campos:\n",
    "            letras_corretas.append(proxima)\n",
    "            for match in re.finditer(proxima, palavra_escolhida):\n",
    "                campos[match.start()] = proxima\n",
    "            print()\n",
    "            imprime_cena()\n",
    "        elif proxima in campos:\n",
    "            print(\"Voce jah escolheu esta letra.\")\n",
    "            print()\n",
    "            imprime_cena()\n",
    "    elif not encontre:\n",
    "        if proxima not in letras_incorretas:\n",
    "            letras_incorretas.append(proxima)\n",
    "            global tentativa_incorreta\n",
    "            tentativa_incorreta = True\n",
    "            global n_tentativas_incorretas\n",
    "            n_tentativas_incorretas += 1\n",
    "            print()\n",
    "            imprime_cena()\n",
    "        else:\n",
    "            print(\"Voce jah escolheu esta letra.\")\n",
    "            print()\n",
    "            imprime_cena()\n",
    "    return\n",
    "\n",
    "from forca import lista_palavras, cenas_forca\n",
    "import re\n",
    "\n",
    "letras_corretas = []\n",
    "letras_incorretas = []\n",
    "letras_incorretas_repetidas = []\n",
    "incorreta_repetida = False\n",
    "tentativa_incorreta = False\n",
    "n_tentativas_incorretas = 0\n",
    "\n",
    "#print(\"Escolha um numero entre 0 e 49: \", end='')\n",
    "n = int(input(\"Escolha um numero entre 0 e 49: \"))\n",
    "if n < 0 or n > 49:\n",
    "    print(\"Numero invalido.\")\n",
    "else:\n",
    "    print()\n",
    "    palavra_escolhida = lista_palavras[n]\n",
    "    campos = [\"_\" for i in range(len(lista_palavras[n]))]\n",
    "    print(cenas_forca[0])\n",
    "    print(\"Palavra:\", end='')\n",
    "    y = \"\"\n",
    "    for j in range(len(lista_palavras[n])):\n",
    "        y = y + \" \" + campos[j] + \" \"\n",
    "    y=y[:-1]\n",
    "    print(y, end=\"\")\n",
    "    while \"_\" in campos:\n",
    "        if len(letras_incorretas) == 6:\n",
    "            print(\"\\nPalavra oculta:\", lista_palavras[n])\n",
    "            break\n",
    "        proxima_letra(palavra_escolhida)\n",
    "    if \"_\" not in campos:\n",
    "        print(\"\\nPalavra encontrada!\")"
   ]
  }
 ],
 "metadata": {
  "kernelspec": {
   "display_name": "Python 3",
   "language": "python",
   "name": "python3"
  },
  "language_info": {
   "codemirror_mode": {
    "name": "ipython",
    "version": 3
   },
   "file_extension": ".py",
   "mimetype": "text/x-python",
   "name": "python",
   "nbconvert_exporter": "python",
   "pygments_lexer": "ipython3",
   "version": "3.6.6"
  }
 },
 "nbformat": 4,
 "nbformat_minor": 2
}
